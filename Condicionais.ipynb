{
  "nbformat": 4,
  "nbformat_minor": 0,
  "metadata": {
    "colab": {
      "provenance": [],
      "authorship_tag": "ABX9TyP+bEgJlITPecs3fGxFwN43"
    },
    "kernelspec": {
      "name": "python3",
      "display_name": "Python 3"
    },
    "language_info": {
      "name": "python"
    }
  },
  "cells": [
    {
      "cell_type": "code",
      "execution_count": null,
      "metadata": {
        "colab": {
          "base_uri": "https://localhost:8080/"
        },
        "id": "5pP4vKvFY-bN",
        "outputId": "5c209352-ede6-466d-b534-4bbb33edaf3b"
      },
      "outputs": [
        {
          "output_type": "stream",
          "name": "stdout",
          "text": [
            "Digite o seu nome: Luiz\n",
            "Digite a sua idade: 30\n",
            "Luiz, você pode comprar bebidas\n"
          ]
        }
      ],
      "source": [
        "# Desafio 1\n",
        "\n",
        "nome = input('Digite o seu nome: ')\n",
        "idade = int(input('Digite a sua idade: '))\n",
        "\n",
        "if idade >= 18:\n",
        "  print('{}, você pode comprar bebidas'.format(nome))\n",
        "else:\n",
        "  print('{}, você não pode comprar bebidas'.format(nome))"
      ]
    },
    {
      "cell_type": "code",
      "source": [
        "# Desafio 2\n",
        "\n",
        "nota1 = float(input('Qual foi a sua nota na prova 1: '))\n",
        "nota2 = float(input('Qual foi a sua nota na prova 2: '))\n",
        "nota3 = float(input('Qual foi a sua nota na prova 3: '))\n",
        "print()\n",
        "media = (nota1 + nota2 + nota3)/3\n",
        "print('A sua média foi {:4.2f}'.format(media))\n",
        "\n",
        "if media >= 8:\n",
        "  print('Parabéns, você está aprovado!')\n",
        "else:\n",
        "  print('Lamento, mas você está reprovado.')\n"
      ],
      "metadata": {
        "colab": {
          "base_uri": "https://localhost:8080/"
        },
        "id": "A1xerZhxaQa2",
        "outputId": "0d48774a-ae87-4406-fa3b-fd054af1d12e"
      },
      "execution_count": null,
      "outputs": [
        {
          "output_type": "stream",
          "name": "stdout",
          "text": [
            "Qual foi a sua nota na prova 1: 8\n",
            "Qual foi a sua nota na prova 2: 7\n",
            "Qual foi a sua nota na prova 3: 5\n",
            "\n",
            "A sua média foi 6.67\n",
            "Lamento, mas você está reprovado.\n"
          ]
        }
      ]
    },
    {
      "cell_type": "code",
      "source": [
        "# Desafio 3\n",
        "\n",
        "altura = float(input('Digite a sua altura: '))\n",
        "print()\n",
        "\n",
        "if altura % 2 == 0:\n",
        "  print('A sua altura é par.')\n",
        "else:\n",
        "  print('A sua altura é ímpar')\n",
        "\n"
      ],
      "metadata": {
        "colab": {
          "base_uri": "https://localhost:8080/"
        },
        "id": "0FgOi8svcQOl",
        "outputId": "70b3a67e-1645-4679-c100-f07bca2db795"
      },
      "execution_count": null,
      "outputs": [
        {
          "output_type": "stream",
          "name": "stdout",
          "text": [
            "Digite a sua altura: 1.75\n",
            "\n",
            "A sua altura é ímpar\n"
          ]
        }
      ]
    },
    {
      "cell_type": "code",
      "source": [
        "# Desafio 4\n",
        "\n",
        "qtd_dias = int(input('Digite o número de um dia do ano: '))\n",
        "print()\n",
        "\n",
        "if qtd_dias <= 90:\n",
        "  print('Esse dia está no primeiro trimestre')\n",
        "elif qtd_dias > 90 and qtd_dias <= 181:\n",
        "  print('Esse dia está no segundo trimestre')\n",
        "elif qtd_dias > 181 and qtd_dias <= 272:\n",
        "  print('Esse dia está no terceiro trimestre')\n",
        "else:\n",
        "  print('Esse dia está no quarto trimestre')"
      ],
      "metadata": {
        "colab": {
          "base_uri": "https://localhost:8080/"
        },
        "id": "R6ha_Qzoc4rs",
        "outputId": "8ad8d39a-3e05-404e-8071-b77c325f8c69"
      },
      "execution_count": null,
      "outputs": [
        {
          "output_type": "stream",
          "name": "stdout",
          "text": [
            "Digite o número de um dia do ano: 120\n",
            "\n",
            "Esse dia está no segundo trimestre\n"
          ]
        }
      ]
    },
    {
      "cell_type": "code",
      "source": [
        "# Desafio 5\n",
        "\n",
        "num1 = float(input('Digite o primeiro número: '))\n",
        "num2 = float(input('Digite o segundo número: '))\n",
        "num3 = float(input('Digite o terceiro número: '))\n",
        "print()\n",
        "\n",
        "if num1 > num2 and num1 > num3:\n",
        "  print('O maior número é o primeiro, {}'.format(num1))\n",
        "elif num2 > num1 and num2 > num3:\n",
        "  print('O maior número é o segundo, {}'.format(num2))\n",
        "elif num3 > num1 and num3 > num2:\n",
        "  print('O maior número é o terceiro, {}'.format(num3))\n",
        "elif num1 > num3 and num1 == num2:\n",
        "  print('Os maiores números são o primeiro e o segundo, {}'.format(num1))\n",
        "elif num1 > num2 and num1 == num3:\n",
        "  print('Os maiores números são o primeiro e o terceiro, {}'.format(num1))\n",
        "elif num2 > num1 and num2 == num3:\n",
        "  print('Os maiores números são o primeiro e o terceiro, {}'.format(num2))\n",
        "else:\n",
        "  print('Os três números são iguais, {}, {}, {}'.format(num1,num2,num3))\n",
        "\n"
      ],
      "metadata": {
        "colab": {
          "base_uri": "https://localhost:8080/"
        },
        "id": "HSi0XRyzeeW5",
        "outputId": "98fc52e7-0887-4142-b6c9-8e21d2a4cda6"
      },
      "execution_count": null,
      "outputs": [
        {
          "output_type": "stream",
          "name": "stdout",
          "text": [
            "Digite o primeiro número: 8\n",
            "Digite o segundo número: 8\n",
            "Digite o terceiro número: 7\n",
            "\n",
            "Os maiores números são o primeiro e o segundo, 8.0\n"
          ]
        }
      ]
    }
  ]
}